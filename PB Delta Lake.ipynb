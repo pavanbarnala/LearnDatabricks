{
 "cells": [
  {
   "cell_type": "code",
   "execution_count": 0,
   "metadata": {
    "application/vnd.databricks.v1+cell": {
     "cellMetadata": {
      "byteLimit": 2048000,
      "rowLimit": 10000
     },
     "inputWidgets": {},
     "nuid": "93f6ecaa-5060-46ad-9bf2-2f8040583c18",
     "showTitle": true,
     "title": "Create delta file"
    }
   },
   "outputs": [],
   "source": [
    "df = spark.range(0,5)\n",
    "df.write.format(\"delta\").save(\"/FirstDeltaTable\")\n"
   ]
  },
  {
   "cell_type": "code",
   "execution_count": 0,
   "metadata": {
    "application/vnd.databricks.v1+cell": {
     "cellMetadata": {
      "byteLimit": 2048000,
      "implicitDf": true,
      "rowLimit": 10000
     },
     "inputWidgets": {},
     "nuid": "57affa97-c3f9-42d4-a6c6-57677d7c4fbf",
     "showTitle": true,
     "title": "Where is the file created"
    }
   },
   "outputs": [],
   "source": [
    "%sql\n",
    "DESCRIBE DETAIL \"/FirstDeltaTable\""
   ]
  },
  {
   "cell_type": "code",
   "execution_count": 0,
   "metadata": {
    "application/vnd.databricks.v1+cell": {
     "cellMetadata": {
      "byteLimit": 2048000,
      "implicitDf": true,
      "rowLimit": 10000
     },
     "inputWidgets": {},
     "nuid": "7339b3d1-9f91-4b53-9dcc-ff56112dd0ed",
     "showTitle": true,
     "title": "Query the delta table"
    }
   },
   "outputs": [],
   "source": [
    "%sql\n",
    "select * from delta.`/FirstDeltaTable`;\n"
   ]
  },
  {
   "cell_type": "code",
   "execution_count": 0,
   "metadata": {
    "application/vnd.databricks.v1+cell": {
     "cellMetadata": {
      "byteLimit": 2048000,
      "rowLimit": 10000
     },
     "inputWidgets": {},
     "nuid": "9c083cdb-9f51-4910-b22b-40200ce63bb3",
     "showTitle": true,
     "title": "Add data to delta table"
    }
   },
   "outputs": [],
   "source": [
    "data = spark.range(0,5)\n",
    "data.write.format(\"delta\").mode(\"overwrite\").save(\"/SecondDeltaTable\")\n",
    "more_data = spark.range(5,11)\n",
    "more_data.write.format(\"delta\").mode(\"append\").save(\"/SecondDeltaTable\")"
   ]
  },
  {
   "cell_type": "code",
   "execution_count": 0,
   "metadata": {
    "application/vnd.databricks.v1+cell": {
     "cellMetadata": {
      "byteLimit": 2048000,
      "implicitDf": true,
      "rowLimit": 10000
     },
     "inputWidgets": {},
     "nuid": "a6aa07de-9b01-4ac3-94eb-a1b45662d2f7",
     "showTitle": true,
     "title": "Query delta table"
    }
   },
   "outputs": [],
   "source": [
    "%sql\n",
    "select * from SecondDeltaTable"
   ]
  },
  {
   "cell_type": "code",
   "execution_count": 0,
   "metadata": {
    "application/vnd.databricks.v1+cell": {
     "cellMetadata": {
      "byteLimit": 2048000,
      "rowLimit": 10000
     },
     "inputWidgets": {},
     "nuid": "b992a701-b250-4c90-8e13-2ebf4bed4a9d",
     "showTitle": true,
     "title": "Optimisation options"
    }
   },
   "outputs": [],
   "source": [
    "# optimisation options in spark for big datasets\n",
    "\n",
    "spark.sql(\"OPTIMIZE '/SecondDeltaTable' \") #compress data for optimisation\n",
    "spark.sql(\"VACUUM '/SecondDeltaTable' RETAIN 170 HOURS \") # delete data older than 170 hours\n"
   ]
  },
  {
   "cell_type": "code",
   "execution_count": 0,
   "metadata": {
    "application/vnd.databricks.v1+cell": {
     "cellMetadata": {
      "byteLimit": 2048000,
      "implicitDf": true,
      "rowLimit": 10000
     },
     "inputWidgets": {},
     "nuid": "fa1c6d8c-4307-4b93-8761-378081878513",
     "showTitle": true,
     "title": "Check why table is not present in catalog"
    }
   },
   "outputs": [],
   "source": [
    "%sql\n",
    "DESCRIBE DETAIL \"/SecondDeltaTable\"\n",
    "\n",
    "-- it does show its a delta table so NO IDEA!!!!!\n"
   ]
  },
  {
   "cell_type": "code",
   "execution_count": 0,
   "metadata": {
    "application/vnd.databricks.v1+cell": {
     "cellMetadata": {
      "byteLimit": 2048000,
      "rowLimit": 10000
     },
     "inputWidgets": {},
     "nuid": "c69b3efa-d8b1-4f25-bad7-3e52619ab7cc",
     "showTitle": true,
     "title": "list all files in dbfs"
    }
   },
   "outputs": [],
   "source": [
    "%fs ls \"dbfs:/\" \n",
    "\n",
    "\n",
    "\n"
   ]
  },
  {
   "cell_type": "markdown",
   "metadata": {
    "application/vnd.databricks.v1+cell": {
     "cellMetadata": {},
     "inputWidgets": {},
     "nuid": "e02a765e-501a-4116-bff4-8a7e82ad0c29",
     "showTitle": false,
     "title": ""
    }
   },
   "source": [
    "Let's try creating delta table using SQL\n",
    "\n"
   ]
  },
  {
   "cell_type": "code",
   "execution_count": 0,
   "metadata": {
    "application/vnd.databricks.v1+cell": {
     "cellMetadata": {
      "byteLimit": 2048000,
      "implicitDf": true,
      "rowLimit": 10000
     },
     "inputWidgets": {},
     "nuid": "a7e56035-7779-4390-b2de-61b4c565d127",
     "showTitle": true,
     "title": "Create delta table using SQL with enforced schema"
    }
   },
   "outputs": [],
   "source": [
    "\n",
    "%sql\n",
    "create table DeltaTableWithDefinedSchema (\n",
    "  Country string,\n",
    "  Continent string,\n",
    "  Population string\n",
    ")"
   ]
  },
  {
   "cell_type": "code",
   "execution_count": 0,
   "metadata": {
    "application/vnd.databricks.v1+cell": {
     "cellMetadata": {
      "byteLimit": 2048000,
      "implicitDf": true,
      "rowLimit": 10000
     },
     "inputWidgets": {},
     "nuid": "d5c8856f-7fa0-4d30-a73b-7be0d77e1aed",
     "showTitle": true,
     "title": "describe table"
    }
   },
   "outputs": [],
   "source": [
    "%sql\n",
    "describe detail DeltaTableWithDefinedSchema\n",
    "-- location: dbfs:/user/hive/warehouse/deltatablewithdefinedschema\n"
   ]
  },
  {
   "cell_type": "code",
   "execution_count": 0,
   "metadata": {
    "application/vnd.databricks.v1+cell": {
     "cellMetadata": {
      "byteLimit": 2048000,
      "implicitDf": true,
      "rowLimit": 10000
     },
     "inputWidgets": {},
     "nuid": "3c32d7f8-745f-43d2-985c-1fe5c218eafb",
     "showTitle": true,
     "title": "Insert into delta table"
    }
   },
   "outputs": [],
   "source": [
    "%sql\n",
    "insert into DeltaTableWithDefinedSchema (Country,Continent) VALUES ('England','Europe');\n",
    "select * from DeltaTableWithDefinedSchema;\n"
   ]
  },
  {
   "cell_type": "code",
   "execution_count": 0,
   "metadata": {
    "application/vnd.databricks.v1+cell": {
     "cellMetadata": {
      "byteLimit": 2048000,
      "implicitDf": true,
      "rowLimit": 10000
     },
     "inputWidgets": {},
     "nuid": "1483ef39-8f4e-428f-a46f-9113f9521b7f",
     "showTitle": true,
     "title": "insert data with a missing column value"
    }
   },
   "outputs": [],
   "source": [
    "%sql\n",
    "--insert into DeltaTableWithDefinedSchema (Country,Continent) VALUES ('Greece','Europe');\n",
    "select * from deltatablewithdefinedschema\n",
    "-- it did not fail. It inserted record with null for the missing column\n"
   ]
  },
  {
   "cell_type": "code",
   "execution_count": 0,
   "metadata": {
    "application/vnd.databricks.v1+cell": {
     "cellMetadata": {
      "byteLimit": 2048000,
      "rowLimit": 10000
     },
     "inputWidgets": {},
     "nuid": "899a5df8-8d45-46ea-93f0-380538127dae",
     "showTitle": true,
     "title": "Enable auto merge so new columns are adding to schema"
    }
   },
   "outputs": [],
   "source": [
    "spark.conf.set(\"spark.databricks.delta.schema.autoMerge.enabled\", \"true\")"
   ]
  },
  {
   "cell_type": "code",
   "execution_count": 0,
   "metadata": {
    "application/vnd.databricks.v1+cell": {
     "cellMetadata": {
      "byteLimit": 2048000,
      "rowLimit": 10000
     },
     "inputWidgets": {},
     "nuid": "cc2055cc-282f-4686-81ab-13effd7ffaf2",
     "showTitle": false,
     "title": ""
    }
   },
   "outputs": [],
   "source": [
    "spark.conf.set(\"spark.databricks.delta.schema.enforcement\", \"true\")\n"
   ]
  },
  {
   "cell_type": "code",
   "execution_count": 0,
   "metadata": {
    "application/vnd.databricks.v1+cell": {
     "cellMetadata": {
      "byteLimit": 2048000,
      "implicitDf": true,
      "rowLimit": 10000
     },
     "inputWidgets": {},
     "nuid": "e6daad52-1b29-4801-8598-767bf84bcc34",
     "showTitle": true,
     "title": "lets try and add one additional column than the defined schema"
    }
   },
   "outputs": [],
   "source": [
    "%sql\n",
    "insert into DeltaTableWithDefinedSchema \n",
    "SELECT 'Spain','Europe',1,2,3;\n",
    "\n",
    "/*\n",
    "any new columns coming in from source get added to the terget table dynamically. \n",
    "It can be useful when source has new columns suddenly, but \n",
    "drawback is that any subsequent source data that does not have new columns will fail\n",
    "*/\n"
   ]
  },
  {
   "cell_type": "code",
   "execution_count": 0,
   "metadata": {
    "application/vnd.databricks.v1+cell": {
     "cellMetadata": {
      "byteLimit": 2048000,
      "implicitDf": true,
      "rowLimit": 10000
     },
     "inputWidgets": {},
     "nuid": "b25fbe70-e539-4712-bce2-51afa479980d",
     "showTitle": true,
     "title": "Update data in Delta table"
    }
   },
   "outputs": [],
   "source": [
    "%sql\n",
    "update DeltaTableWithDefinedSchema set Country = 'Northern Ireland' where COuntry = 'Wales'"
   ]
  },
  {
   "cell_type": "code",
   "execution_count": 0,
   "metadata": {
    "application/vnd.databricks.v1+cell": {
     "cellMetadata": {
      "byteLimit": 2048000,
      "implicitDf": true,
      "rowLimit": 10000
     },
     "inputWidgets": {},
     "nuid": "c1e07a56-9cfc-4c49-9480-166ef63c9b34",
     "showTitle": true,
     "title": "see history"
    }
   },
   "outputs": [],
   "source": [
    "%sql\n",
    "--describe detail DeltaTableWithDefinedSchema;\n",
    "describe history DeltaTableWithDefinedSchema;\n"
   ]
  },
  {
   "cell_type": "code",
   "execution_count": 0,
   "metadata": {
    "application/vnd.databricks.v1+cell": {
     "cellMetadata": {
      "byteLimit": 2048000,
      "implicitDf": true,
      "rowLimit": 10000
     },
     "inputWidgets": {},
     "nuid": "187eff8c-bb7d-4f0c-8200-bb21bc8eb8f2",
     "showTitle": false,
     "title": ""
    }
   },
   "outputs": [],
   "source": [
    "%sql\n",
    "select * from DeltaTableWithDefinedSchema\n"
   ]
  },
  {
   "cell_type": "code",
   "execution_count": 0,
   "metadata": {
    "application/vnd.databricks.v1+cell": {
     "cellMetadata": {
      "byteLimit": 2048000,
      "implicitDf": true,
      "rowLimit": 10000
     },
     "inputWidgets": {},
     "nuid": "22a0401e-c8d3-4f27-b06d-56faa9fe5aae",
     "showTitle": true,
     "title": "see data before the recent update"
    }
   },
   "outputs": [],
   "source": [
    "%sql\n",
    "select * from DeltaTableWithDefinedSchema version as of 16"
   ]
  },
  {
   "cell_type": "code",
   "execution_count": 0,
   "metadata": {
    "application/vnd.databricks.v1+cell": {
     "cellMetadata": {
      "byteLimit": 2048000,
      "implicitDf": true,
      "rowLimit": 10000
     },
     "inputWidgets": {},
     "nuid": "706e2909-8869-4bc7-b57c-4cc410c5b790",
     "showTitle": true,
     "title": "see data as of a timestamp"
    }
   },
   "outputs": [],
   "source": [
    "%sql\n",
    "select * from DeltaTableWithDefinedSchema timestamp as of '2024-10-23T11:39:58.000+00:00'\n"
   ]
  },
  {
   "cell_type": "code",
   "execution_count": 0,
   "metadata": {
    "application/vnd.databricks.v1+cell": {
     "cellMetadata": {
      "byteLimit": 2048000,
      "implicitDf": true,
      "rowLimit": 10000
     },
     "inputWidgets": {},
     "nuid": "72f4e2de-5d05-41dc-bcca-8c35a254a82d",
     "showTitle": true,
     "title": "restore to an old version"
    }
   },
   "outputs": [],
   "source": [
    "%sql\n",
    "restore table DeltaTableWithDefinedSchema to timestamp as of '2024-10-23T11:39:58.000+00:00'\n",
    "\n"
   ]
  },
  {
   "cell_type": "code",
   "execution_count": 0,
   "metadata": {
    "application/vnd.databricks.v1+cell": {
     "cellMetadata": {
      "byteLimit": 2048000,
      "implicitDf": true,
      "rowLimit": 10000
     },
     "inputWidgets": {},
     "nuid": "63dc7088-fba5-4d4b-9932-b328ff87fa00",
     "showTitle": true,
     "title": "Select and see if restored as expected"
    }
   },
   "outputs": [],
   "source": [
    "%sql\n",
    "select * from DeltaTableWithDefinedSchema"
   ]
  }
 ],
 "metadata": {
  "application/vnd.databricks.v1+notebook": {
   "dashboards": [],
   "environmentMetadata": null,
   "language": "python",
   "notebookMetadata": {
    "mostRecentlyExecutedCommandWithImplicitDF": {
     "commandId": 114319571083671,
     "dataframes": [
      "_sqldf"
     ]
    },
    "pythonIndentUnit": 4
   },
   "notebookName": "PB Delta Lake",
   "widgets": {}
  },
  "language_info": {
   "name": "python"
  }
 },
 "nbformat": 4,
 "nbformat_minor": 0
}
